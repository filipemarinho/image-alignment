{
 "cells": [
  {
   "cell_type": "markdown",
   "id": "78903717-a4b6-4840-8f6a-847e6c617641",
   "metadata": {},
   "source": [
    "# Image alignment\n",
    "\n",
    "Objetivo alinhar as imagens obtidas nas 4 faixas espectrais para obter uma imagem de 4 canais que representa o "
   ]
  }
 ],
 "metadata": {
  "kernelspec": {
   "display_name": "Python 3",
   "language": "python",
   "name": "python3"
  },
  "language_info": {
   "codemirror_mode": {
    "name": "ipython",
    "version": 3
   },
   "file_extension": ".py",
   "mimetype": "text/x-python",
   "name": "python",
   "nbconvert_exporter": "python",
   "pygments_lexer": "ipython3",
   "version": "3.8.8"
  }
 },
 "nbformat": 4,
 "nbformat_minor": 5
}
